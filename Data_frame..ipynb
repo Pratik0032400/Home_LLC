{
 "cells": [
  {
   "cell_type": "markdown",
   "id": "ab5a25f1",
   "metadata": {},
   "source": [
    "### Study of effect of national factors on home prices in US"
   ]
  },
  {
   "cell_type": "markdown",
   "id": "2d254cab",
   "metadata": {},
   "source": [
    "**Task -** Using publically available data for the national factors that impact supply and demand of homes in US, build a model to study the effect of these variables on home prices.\n",
    "\n",
    "**Approach -** The following variables are chosen for the study-\n",
    "- Unemployment Rate\n",
    "- Per Capita GDP\n",
    "- Construction Prices\n",
    "- Interest Rates\n",
    "- Number of new houses supplied\n",
    "- Percentage of population above 65\n",
    "- Housing subsidies\n",
    "- Number of Households\n",
    "\n",
    "As a proxy to the home prices, S&P CASE-SHILLER Index is used. \n",
    "\n",
    "Most of the data is downloaded from [https://fred.stlouisfed.org/]."
   ]
  },
  {
   "cell_type": "markdown",
   "id": "bd9e47c4",
   "metadata": {},
   "source": [
    "Data for all the variables is downloaded, preprocessed and combined to create a datset. Data for different variables had different frequencies. So, to combine the data, necessary interpolations are made.\n",
    "\n",
    "Linear Regression is used as most of the variables have high correlation with the target variable."
   ]
  },
  {
   "cell_type": "markdown",
   "id": "79a26ead",
   "metadata": {},
   "source": [
    "#### Importing Library"
   ]
  },
  {
   "cell_type": "code",
   "execution_count": 1,
   "id": "27c07f65",
   "metadata": {},
   "outputs": [],
   "source": [
    "import pandas as pd\n",
    "import numpy as np"
   ]
  },
  {
   "cell_type": "markdown",
   "id": "ec405109",
   "metadata": {},
   "source": [
    "#### Loading CSV File"
   ]
  },
  {
   "cell_type": "code",
   "execution_count": 2,
   "id": "45278ef1",
   "metadata": {},
   "outputs": [
    {
     "name": "stdout",
     "output_type": "stream",
     "text": [
      "                 DATE      Price\n",
      "0    observation_date  CSUSHPISA\n",
      "1          2003-01-01     128.46\n",
      "2          2003-02-01     129.36\n",
      "3          2003-03-01     130.15\n",
      "4          2003-04-01     130.88\n",
      "..                ...        ...\n",
      "245        2023-05-01     302.57\n",
      "246        2023-06-01     304.59\n",
      "247        2023-07-01     306.77\n",
      "248        2023-08-01     309.16\n",
      "249        2023-09-01     311.18\n",
      "\n",
      "[250 rows x 2 columns]\n"
     ]
    }
   ],
   "source": [
    "df_cs = pd.read_csv(\"1 Home price.csv\", names = [\"DATE\",\"Price\"])\n",
    "print(df_cs)"
   ]
  },
  {
   "cell_type": "code",
   "execution_count": 3,
   "id": "c71e3bdc",
   "metadata": {},
   "outputs": [],
   "source": [
    "# Remove the row with index 0\n",
    "df_cs = df_cs.drop(0)\n",
    "\n",
    "# Resetting index after dropping row 0\n",
    "df_cs.reset_index(drop=True, inplace=True)"
   ]
  },
  {
   "cell_type": "code",
   "execution_count": 4,
   "id": "625aa24f",
   "metadata": {},
   "outputs": [
    {
     "data": {
      "text/plain": [
       "DATE     object\n",
       "Price    object\n",
       "dtype: object"
      ]
     },
     "execution_count": 4,
     "metadata": {},
     "output_type": "execute_result"
    }
   ],
   "source": [
    "df_cs.dtypes"
   ]
  },
  {
   "cell_type": "code",
   "execution_count": 5,
   "id": "9a662a18",
   "metadata": {},
   "outputs": [],
   "source": [
    "#Changing dtype of date column\n",
    "df_cs[\"DATE\"] = pd.to_datetime(df_cs[\"DATE\"])"
   ]
  },
  {
   "cell_type": "code",
   "execution_count": 6,
   "id": "9135b969",
   "metadata": {},
   "outputs": [],
   "source": [
    "df_cs['Price'] = pd.to_numeric(df_cs['Price'], errors='coerce')"
   ]
  },
  {
   "cell_type": "code",
   "execution_count": 7,
   "id": "7ae04614",
   "metadata": {},
   "outputs": [
    {
     "data": {
      "text/plain": [
       "DATE     datetime64[ns]\n",
       "Price           float64\n",
       "dtype: object"
      ]
     },
     "execution_count": 7,
     "metadata": {},
     "output_type": "execute_result"
    }
   ],
   "source": [
    "df_cs.dtypes"
   ]
  },
  {
   "cell_type": "code",
   "execution_count": 8,
   "id": "9ad4bea1",
   "metadata": {},
   "outputs": [
    {
     "name": "stdout",
     "output_type": "stream",
     "text": [
      "(249, 4)\n",
      "          DATE   Price  Year  Month\n",
      "0   2003-01-01  128.46  2003      1\n",
      "1   2003-02-01  129.36  2003      2\n",
      "2   2003-03-01  130.15  2003      3\n",
      "3   2003-04-01  130.88  2003      4\n",
      "4   2003-05-01  131.74  2003      5\n",
      "..         ...     ...   ...    ...\n",
      "244 2023-05-01  302.57  2023      5\n",
      "245 2023-06-01  304.59  2023      6\n",
      "246 2023-07-01  306.77  2023      7\n",
      "247 2023-08-01  309.16  2023      8\n",
      "248 2023-09-01  311.18  2023      9\n",
      "\n",
      "[249 rows x 4 columns]\n"
     ]
    }
   ],
   "source": [
    "# Creating \"Year\" and \"Month\" columns\n",
    "df_cs[\"Year\"] = pd.DatetimeIndex(df_cs[\"DATE\"]).year\n",
    "df_cs[\"Month\"] = pd.DatetimeIndex(df_cs[\"DATE\"]).month\n",
    "print(df_cs.shape)\n",
    "print(df_cs)"
   ]
  },
  {
   "cell_type": "code",
   "execution_count": 9,
   "id": "564cea62",
   "metadata": {},
   "outputs": [
    {
     "name": "stdout",
     "output_type": "stream",
     "text": [
      "RangeIndex(start=0, stop=251, step=1)\n",
      "Rows with indices 249 and 250 dropped successfully.\n",
      "(249, 2)\n"
     ]
    },
    {
     "data": {
      "text/html": [
       "<div>\n",
       "<style scoped>\n",
       "    .dataframe tbody tr th:only-of-type {\n",
       "        vertical-align: middle;\n",
       "    }\n",
       "\n",
       "    .dataframe tbody tr th {\n",
       "        vertical-align: top;\n",
       "    }\n",
       "\n",
       "    .dataframe thead th {\n",
       "        text-align: right;\n",
       "    }\n",
       "</style>\n",
       "<table border=\"1\" class=\"dataframe\">\n",
       "  <thead>\n",
       "    <tr style=\"text-align: right;\">\n",
       "      <th></th>\n",
       "      <th>DATE</th>\n",
       "      <th>Unemployment Rate</th>\n",
       "    </tr>\n",
       "  </thead>\n",
       "  <tbody>\n",
       "    <tr>\n",
       "      <th>0</th>\n",
       "      <td>2003-01-01</td>\n",
       "      <td>5.8</td>\n",
       "    </tr>\n",
       "    <tr>\n",
       "      <th>1</th>\n",
       "      <td>2003-02-01</td>\n",
       "      <td>5.9</td>\n",
       "    </tr>\n",
       "    <tr>\n",
       "      <th>2</th>\n",
       "      <td>2003-03-01</td>\n",
       "      <td>5.9</td>\n",
       "    </tr>\n",
       "    <tr>\n",
       "      <th>3</th>\n",
       "      <td>2003-04-01</td>\n",
       "      <td>6.0</td>\n",
       "    </tr>\n",
       "    <tr>\n",
       "      <th>4</th>\n",
       "      <td>2003-05-01</td>\n",
       "      <td>6.1</td>\n",
       "    </tr>\n",
       "    <tr>\n",
       "      <th>...</th>\n",
       "      <td>...</td>\n",
       "      <td>...</td>\n",
       "    </tr>\n",
       "    <tr>\n",
       "      <th>244</th>\n",
       "      <td>2023-05-01</td>\n",
       "      <td>3.7</td>\n",
       "    </tr>\n",
       "    <tr>\n",
       "      <th>245</th>\n",
       "      <td>2023-06-01</td>\n",
       "      <td>3.6</td>\n",
       "    </tr>\n",
       "    <tr>\n",
       "      <th>246</th>\n",
       "      <td>2023-07-01</td>\n",
       "      <td>3.5</td>\n",
       "    </tr>\n",
       "    <tr>\n",
       "      <th>247</th>\n",
       "      <td>2023-08-01</td>\n",
       "      <td>3.8</td>\n",
       "    </tr>\n",
       "    <tr>\n",
       "      <th>248</th>\n",
       "      <td>2023-09-01</td>\n",
       "      <td>3.8</td>\n",
       "    </tr>\n",
       "  </tbody>\n",
       "</table>\n",
       "<p>249 rows × 2 columns</p>\n",
       "</div>"
      ],
      "text/plain": [
       "           DATE Unemployment Rate\n",
       "0    2003-01-01               5.8\n",
       "1    2003-02-01               5.9\n",
       "2    2003-03-01               5.9\n",
       "3    2003-04-01               6.0\n",
       "4    2003-05-01               6.1\n",
       "..          ...               ...\n",
       "244  2023-05-01               3.7\n",
       "245  2023-06-01               3.6\n",
       "246  2023-07-01               3.5\n",
       "247  2023-08-01               3.8\n",
       "248  2023-09-01               3.8\n",
       "\n",
       "[249 rows x 2 columns]"
      ]
     },
     "execution_count": 9,
     "metadata": {},
     "output_type": "execute_result"
    }
   ],
   "source": [
    "# Reading Unemployment Rate Data into a dataframe\n",
    "df_unemp = pd.read_csv(\"3 Unemployment Rate.csv\", names = [\"DATE\",\"Unemployment Rate\"])\n",
    "# Remove the row with index 0\n",
    "df_unemp = df_unemp.drop(0)\n",
    "\n",
    "# Resetting index after dropping row 0\n",
    "df_unemp.reset_index(drop=True, inplace=True)\n",
    "\n",
    "# Assuming df_unemp is your DataFrame\n",
    "# Display the current indices of the DataFrame\n",
    "print(df_unemp.index)\n",
    "\n",
    "# Drop rows with indices 249 and 250 if they exist in the DataFrame\n",
    "if all(idx in df_unemp.index for idx in [249, 250]):\n",
    "    df_unemp.drop([249, 250], inplace=True)\n",
    "    print(\"Rows with indices 249 and 250 dropped successfully.\")\n",
    "else:\n",
    "    print(\"One or more indices not found in the DataFrame.\")\n",
    "print(df_unemp.shape)\n",
    "df_unemp\n"
   ]
  },
  {
   "cell_type": "code",
   "execution_count": 10,
   "id": "f3375a44",
   "metadata": {},
   "outputs": [
    {
     "data": {
      "text/plain": [
       "DATE                 object\n",
       "Unemployment Rate    object\n",
       "dtype: object"
      ]
     },
     "execution_count": 10,
     "metadata": {},
     "output_type": "execute_result"
    }
   ],
   "source": [
    "df_unemp.dtypes"
   ]
  },
  {
   "cell_type": "code",
   "execution_count": 11,
   "id": "f6f811b0",
   "metadata": {},
   "outputs": [],
   "source": [
    "#Changing dtype of date column\n",
    "df_unemp[\"DATE\"] = pd.to_datetime(df_unemp[\"DATE\"])\n",
    "df_unemp['Unemployment Rate'] = pd.to_numeric(df_unemp['Unemployment Rate'], errors='coerce')"
   ]
  },
  {
   "cell_type": "code",
   "execution_count": 12,
   "id": "9647992d",
   "metadata": {},
   "outputs": [
    {
     "data": {
      "text/plain": [
       "DATE                 datetime64[ns]\n",
       "Unemployment Rate           float64\n",
       "dtype: object"
      ]
     },
     "execution_count": 12,
     "metadata": {},
     "output_type": "execute_result"
    }
   ],
   "source": [
    "df_unemp.dtypes"
   ]
  },
  {
   "cell_type": "code",
   "execution_count": 13,
   "id": "4bf579dd",
   "metadata": {},
   "outputs": [
    {
     "name": "stdout",
     "output_type": "stream",
     "text": [
      "Rows with indices 249  dropped successfully.\n",
      "(249, 2)\n"
     ]
    },
    {
     "data": {
      "text/html": [
       "<div>\n",
       "<style scoped>\n",
       "    .dataframe tbody tr th:only-of-type {\n",
       "        vertical-align: middle;\n",
       "    }\n",
       "\n",
       "    .dataframe tbody tr th {\n",
       "        vertical-align: top;\n",
       "    }\n",
       "\n",
       "    .dataframe thead th {\n",
       "        text-align: right;\n",
       "    }\n",
       "</style>\n",
       "<table border=\"1\" class=\"dataframe\">\n",
       "  <thead>\n",
       "    <tr style=\"text-align: right;\">\n",
       "      <th></th>\n",
       "      <th>DATE</th>\n",
       "      <th>Income</th>\n",
       "    </tr>\n",
       "  </thead>\n",
       "  <tbody>\n",
       "    <tr>\n",
       "      <th>0</th>\n",
       "      <td>2003-01-01</td>\n",
       "      <td>10710.4</td>\n",
       "    </tr>\n",
       "    <tr>\n",
       "      <th>1</th>\n",
       "      <td>2003-02-01</td>\n",
       "      <td>10674.0</td>\n",
       "    </tr>\n",
       "    <tr>\n",
       "      <th>2</th>\n",
       "      <td>2003-03-01</td>\n",
       "      <td>10696.5</td>\n",
       "    </tr>\n",
       "    <tr>\n",
       "      <th>3</th>\n",
       "      <td>2003-04-01</td>\n",
       "      <td>10752.7</td>\n",
       "    </tr>\n",
       "    <tr>\n",
       "      <th>4</th>\n",
       "      <td>2003-05-01</td>\n",
       "      <td>10832.0</td>\n",
       "    </tr>\n",
       "    <tr>\n",
       "      <th>...</th>\n",
       "      <td>...</td>\n",
       "      <td>...</td>\n",
       "    </tr>\n",
       "    <tr>\n",
       "      <th>244</th>\n",
       "      <td>2023-05-01</td>\n",
       "      <td>16818.5</td>\n",
       "    </tr>\n",
       "    <tr>\n",
       "      <th>245</th>\n",
       "      <td>2023-06-01</td>\n",
       "      <td>16809.5</td>\n",
       "    </tr>\n",
       "    <tr>\n",
       "      <th>246</th>\n",
       "      <td>2023-07-01</td>\n",
       "      <td>16796.9</td>\n",
       "    </tr>\n",
       "    <tr>\n",
       "      <th>247</th>\n",
       "      <td>2023-08-01</td>\n",
       "      <td>16799.7</td>\n",
       "    </tr>\n",
       "    <tr>\n",
       "      <th>248</th>\n",
       "      <td>2023-09-01</td>\n",
       "      <td>16804.8</td>\n",
       "    </tr>\n",
       "  </tbody>\n",
       "</table>\n",
       "<p>249 rows × 2 columns</p>\n",
       "</div>"
      ],
      "text/plain": [
       "           DATE   Income\n",
       "0    2003-01-01  10710.4\n",
       "1    2003-02-01  10674.0\n",
       "2    2003-03-01  10696.5\n",
       "3    2003-04-01  10752.7\n",
       "4    2003-05-01  10832.0\n",
       "..          ...      ...\n",
       "244  2023-05-01  16818.5\n",
       "245  2023-06-01  16809.5\n",
       "246  2023-07-01  16796.9\n",
       "247  2023-08-01  16799.7\n",
       "248  2023-09-01  16804.8\n",
       "\n",
       "[249 rows x 2 columns]"
      ]
     },
     "execution_count": 13,
     "metadata": {},
     "output_type": "execute_result"
    }
   ],
   "source": [
    "# Reading Unemployment Rate Data into a dataframe\n",
    "df_income = pd.read_csv(\"4 Income.csv\", names = [\"DATE\",\"Income\"])\n",
    "# Remove the row with index 0\n",
    "df_income = df_income.drop(0)\n",
    "\n",
    "# Resetting index after dropping row 0\n",
    "df_income.reset_index(drop=True, inplace=True)\n",
    "\n",
    "# Drop rows with indices 249 if they exist in the DataFrame\n",
    "if all(idx in df_income.index for idx in [249]):\n",
    "    df_income.drop([249], inplace=True)\n",
    "    print(\"Rows with indices 249  dropped successfully.\")\n",
    "else:\n",
    "    print(\"One or more indices not found in the DataFrame.\")\n",
    "\n",
    "print(df_income.shape)\n",
    "df_income"
   ]
  },
  {
   "cell_type": "code",
   "execution_count": 14,
   "id": "61a48f03",
   "metadata": {},
   "outputs": [],
   "source": [
    "#Changing dtype of date column\n",
    "df_income[\"DATE\"] = pd.to_datetime(df_income[\"DATE\"])\n",
    "df_income['Income'] = pd.to_numeric(df_income['Income'], errors='coerce')"
   ]
  },
  {
   "cell_type": "code",
   "execution_count": 15,
   "id": "36f96984",
   "metadata": {},
   "outputs": [
    {
     "name": "stdout",
     "output_type": "stream",
     "text": [
      "RangeIndex(start=0, stop=251, step=1)\n",
      "Rows with indices 249 and 250 dropped successfully.\n",
      "(249, 2)\n"
     ]
    },
    {
     "data": {
      "text/html": [
       "<div>\n",
       "<style scoped>\n",
       "    .dataframe tbody tr th:only-of-type {\n",
       "        vertical-align: middle;\n",
       "    }\n",
       "\n",
       "    .dataframe tbody tr th {\n",
       "        vertical-align: top;\n",
       "    }\n",
       "\n",
       "    .dataframe thead th {\n",
       "        text-align: right;\n",
       "    }\n",
       "</style>\n",
       "<table border=\"1\" class=\"dataframe\">\n",
       "  <thead>\n",
       "    <tr style=\"text-align: right;\">\n",
       "      <th></th>\n",
       "      <th>DATE</th>\n",
       "      <th>Interest Rate</th>\n",
       "    </tr>\n",
       "  </thead>\n",
       "  <tbody>\n",
       "    <tr>\n",
       "      <th>0</th>\n",
       "      <td>2003-01-01</td>\n",
       "      <td>1.24</td>\n",
       "    </tr>\n",
       "    <tr>\n",
       "      <th>1</th>\n",
       "      <td>2003-02-01</td>\n",
       "      <td>1.26</td>\n",
       "    </tr>\n",
       "    <tr>\n",
       "      <th>2</th>\n",
       "      <td>2003-03-01</td>\n",
       "      <td>1.25</td>\n",
       "    </tr>\n",
       "    <tr>\n",
       "      <th>3</th>\n",
       "      <td>2003-04-01</td>\n",
       "      <td>1.26</td>\n",
       "    </tr>\n",
       "    <tr>\n",
       "      <th>4</th>\n",
       "      <td>2003-05-01</td>\n",
       "      <td>1.26</td>\n",
       "    </tr>\n",
       "    <tr>\n",
       "      <th>...</th>\n",
       "      <td>...</td>\n",
       "      <td>...</td>\n",
       "    </tr>\n",
       "    <tr>\n",
       "      <th>244</th>\n",
       "      <td>2023-05-01</td>\n",
       "      <td>5.06</td>\n",
       "    </tr>\n",
       "    <tr>\n",
       "      <th>245</th>\n",
       "      <td>2023-06-01</td>\n",
       "      <td>5.08</td>\n",
       "    </tr>\n",
       "    <tr>\n",
       "      <th>246</th>\n",
       "      <td>2023-07-01</td>\n",
       "      <td>5.12</td>\n",
       "    </tr>\n",
       "    <tr>\n",
       "      <th>247</th>\n",
       "      <td>2023-08-01</td>\n",
       "      <td>5.33</td>\n",
       "    </tr>\n",
       "    <tr>\n",
       "      <th>248</th>\n",
       "      <td>2023-09-01</td>\n",
       "      <td>5.33</td>\n",
       "    </tr>\n",
       "  </tbody>\n",
       "</table>\n",
       "<p>249 rows × 2 columns</p>\n",
       "</div>"
      ],
      "text/plain": [
       "           DATE Interest Rate\n",
       "0    2003-01-01          1.24\n",
       "1    2003-02-01          1.26\n",
       "2    2003-03-01          1.25\n",
       "3    2003-04-01          1.26\n",
       "4    2003-05-01          1.26\n",
       "..          ...           ...\n",
       "244  2023-05-01          5.06\n",
       "245  2023-06-01          5.08\n",
       "246  2023-07-01          5.12\n",
       "247  2023-08-01          5.33\n",
       "248  2023-09-01          5.33\n",
       "\n",
       "[249 rows x 2 columns]"
      ]
     },
     "execution_count": 15,
     "metadata": {},
     "output_type": "execute_result"
    }
   ],
   "source": [
    "# Interest Rate Data\n",
    "df_Fed_rate = pd.read_csv(\"2 Intrested Rate.csv\", names = [\"DATE\",\"Interest Rate\"])\n",
    "# Remove the row with index 0\n",
    "df_Fed_rate = df_Fed_rate.drop(0)\n",
    "\n",
    "# Resetting index after dropping row 0\n",
    "df_Fed_rate.reset_index(drop=True, inplace=True)\n",
    "\n",
    "# Assuming df_unemp is your DataFrame\n",
    "# Display the current indices of the DataFrame\n",
    "print(df_Fed_rate.index)\n",
    "\n",
    "# Drop rows with indices 249 and 250 if they exist in the DataFrame\n",
    "if all(idx in df_Fed_rate.index for idx in [249, 250]):\n",
    "    df_Fed_rate.drop([249, 250], inplace=True)\n",
    "    print(\"Rows with indices 249 and 250 dropped successfully.\")\n",
    "else:\n",
    "    print(\"One or more indices not found in the DataFrame.\")\n",
    "    \n",
    "print(df_Fed_rate.shape)\n",
    "df_Fed_rate"
   ]
  },
  {
   "cell_type": "code",
   "execution_count": 16,
   "id": "c09acbb9",
   "metadata": {},
   "outputs": [],
   "source": [
    "#Changing dtype of date column\n",
    "df_Fed_rate[\"DATE\"] = pd.to_datetime(df_Fed_rate[\"DATE\"])\n",
    "df_Fed_rate['Interest Rate'] = pd.to_numeric(df_Fed_rate['Interest Rate'], errors='coerce')"
   ]
  },
  {
   "cell_type": "code",
   "execution_count": 17,
   "id": "e973018c",
   "metadata": {},
   "outputs": [
    {
     "name": "stdout",
     "output_type": "stream",
     "text": [
      "(83, 2)\n"
     ]
    },
    {
     "data": {
      "text/html": [
       "<div>\n",
       "<style scoped>\n",
       "    .dataframe tbody tr th:only-of-type {\n",
       "        vertical-align: middle;\n",
       "    }\n",
       "\n",
       "    .dataframe tbody tr th {\n",
       "        vertical-align: top;\n",
       "    }\n",
       "\n",
       "    .dataframe thead th {\n",
       "        text-align: right;\n",
       "    }\n",
       "</style>\n",
       "<table border=\"1\" class=\"dataframe\">\n",
       "  <thead>\n",
       "    <tr style=\"text-align: right;\">\n",
       "      <th></th>\n",
       "      <th>DATE</th>\n",
       "      <th>Per_Capital_GDP</th>\n",
       "    </tr>\n",
       "  </thead>\n",
       "  <tbody>\n",
       "    <tr>\n",
       "      <th>0</th>\n",
       "      <td>2003-01-01</td>\n",
       "      <td>50462</td>\n",
       "    </tr>\n",
       "    <tr>\n",
       "      <th>1</th>\n",
       "      <td>2003-04-01</td>\n",
       "      <td>50796</td>\n",
       "    </tr>\n",
       "    <tr>\n",
       "      <th>2</th>\n",
       "      <td>2003-07-01</td>\n",
       "      <td>51512</td>\n",
       "    </tr>\n",
       "    <tr>\n",
       "      <th>3</th>\n",
       "      <td>2003-10-01</td>\n",
       "      <td>51986</td>\n",
       "    </tr>\n",
       "    <tr>\n",
       "      <th>4</th>\n",
       "      <td>2004-01-01</td>\n",
       "      <td>52179</td>\n",
       "    </tr>\n",
       "    <tr>\n",
       "      <th>...</th>\n",
       "      <td>...</td>\n",
       "      <td>...</td>\n",
       "    </tr>\n",
       "    <tr>\n",
       "      <th>78</th>\n",
       "      <td>2022-07-01</td>\n",
       "      <td>65462</td>\n",
       "    </tr>\n",
       "    <tr>\n",
       "      <th>79</th>\n",
       "      <td>2022-10-01</td>\n",
       "      <td>65783</td>\n",
       "    </tr>\n",
       "    <tr>\n",
       "      <th>80</th>\n",
       "      <td>2023-01-01</td>\n",
       "      <td>66078</td>\n",
       "    </tr>\n",
       "    <tr>\n",
       "      <th>81</th>\n",
       "      <td>2023-04-01</td>\n",
       "      <td>66341</td>\n",
       "    </tr>\n",
       "    <tr>\n",
       "      <th>82</th>\n",
       "      <td>2023-07-01</td>\n",
       "      <td>67083</td>\n",
       "    </tr>\n",
       "  </tbody>\n",
       "</table>\n",
       "<p>83 rows × 2 columns</p>\n",
       "</div>"
      ],
      "text/plain": [
       "          DATE Per_Capital_GDP\n",
       "0   2003-01-01           50462\n",
       "1   2003-04-01           50796\n",
       "2   2003-07-01           51512\n",
       "3   2003-10-01           51986\n",
       "4   2004-01-01           52179\n",
       "..         ...             ...\n",
       "78  2022-07-01           65462\n",
       "79  2022-10-01           65783\n",
       "80  2023-01-01           66078\n",
       "81  2023-04-01           66341\n",
       "82  2023-07-01           67083\n",
       "\n",
       "[83 rows x 2 columns]"
      ]
     },
     "execution_count": 17,
     "metadata": {},
     "output_type": "execute_result"
    }
   ],
   "source": [
    "# Reading Per Capita GDP Data into a dataframe\n",
    "df_pcgdp = pd.read_csv(\"5 Per Capital GDP.csv\", names = [\"DATE\", \"Per_Capital_GDP\"])\n",
    "# Remove the row with index 0\n",
    "df_pcgdp = df_pcgdp.drop(0)\n",
    "\n",
    "# Resetting index after dropping row 0\n",
    "df_pcgdp.reset_index(drop=True, inplace=True)\n",
    "print(df_pcgdp.shape)\n",
    "df_pcgdp"
   ]
  },
  {
   "cell_type": "markdown",
   "id": "27c14426",
   "metadata": {},
   "source": [
    "The data is quarterly. We will impute for other months using linear interpolation after we create the final dataframe combining all the data."
   ]
  },
  {
   "cell_type": "code",
   "execution_count": 18,
   "id": "c377789d",
   "metadata": {},
   "outputs": [],
   "source": [
    "#Changing dtype of date column\n",
    "df_pcgdp[\"DATE\"] = pd.to_datetime(df_pcgdp[\"DATE\"])\n",
    "df_pcgdp['Per_Capital_GDP'] = pd.to_numeric(df_pcgdp['Per_Capital_GDP'], errors='coerce')"
   ]
  },
  {
   "cell_type": "code",
   "execution_count": 19,
   "id": "be1e2832",
   "metadata": {},
   "outputs": [
    {
     "data": {
      "text/plain": [
       "DATE               datetime64[ns]\n",
       "Per_Capital_GDP             int64\n",
       "dtype: object"
      ]
     },
     "execution_count": 19,
     "metadata": {},
     "output_type": "execute_result"
    }
   ],
   "source": [
    "df_pcgdp.dtypes"
   ]
  },
  {
   "cell_type": "code",
   "execution_count": 20,
   "id": "11f71e47",
   "metadata": {},
   "outputs": [
    {
     "name": "stdout",
     "output_type": "stream",
     "text": [
      "           DATE Cons_Materials_Price\n",
      "0    2003-01-01              144.400\n",
      "1    2003-02-01              145.200\n",
      "2    2003-03-01              145.200\n",
      "3    2003-04-01              145.900\n",
      "4    2003-05-01              145.800\n",
      "..          ...                  ...\n",
      "244  2023-05-01              337.473\n",
      "245  2023-06-01              337.336\n",
      "246  2023-07-01              334.576\n",
      "247  2023-08-01              333.980\n",
      "248  2023-09-01              332.224\n",
      "\n",
      "[249 rows x 2 columns]\n"
     ]
    }
   ],
   "source": [
    "# Reading Construction Price Index Data into a dataframe\n",
    "df_cons_price_index = pd.read_csv(\"7 Construction Price Index.csv\", names = [\"DATE\", \"Cons_Materials_Price\"])\n",
    "# Remove the row with index 0\n",
    "df_cons_price_index= df_cons_price_index.drop(0)\n",
    "\n",
    "# Resetting index after dropping row 0\n",
    "df_cons_price_index.reset_index(drop=True, inplace=True)\n",
    "\n",
    "# Remove the row with index 249\n",
    "df_cons_price_index= df_cons_price_index.drop(249)\n",
    "\n",
    "# Resetting index after dropping row 249\n",
    "df_cons_price_index.reset_index(drop=True, inplace=True)\n",
    "\n",
    "print(df_cons_price_index)"
   ]
  },
  {
   "cell_type": "code",
   "execution_count": 21,
   "id": "4e708bb1",
   "metadata": {},
   "outputs": [],
   "source": [
    "#Changing dtype of date column\n",
    "df_cons_price_index[\"DATE\"] = pd.to_datetime(df_cons_price_index[\"DATE\"])\n",
    "df_cons_price_index['Cons_Materials_Price'] = pd.to_numeric(df_cons_price_index['Cons_Materials_Price'], errors='coerce')"
   ]
  },
  {
   "cell_type": "code",
   "execution_count": 22,
   "id": "bc8c9c6a",
   "metadata": {},
   "outputs": [
    {
     "data": {
      "text/plain": [
       "DATE                    datetime64[ns]\n",
       "Cons_Materials_Price           float64\n",
       "dtype: object"
      ]
     },
     "execution_count": 22,
     "metadata": {},
     "output_type": "execute_result"
    }
   ],
   "source": [
    "df_cons_price_index.dtypes"
   ]
  },
  {
   "cell_type": "code",
   "execution_count": 23,
   "id": "eba3bb09",
   "metadata": {},
   "outputs": [
    {
     "name": "stdout",
     "output_type": "stream",
     "text": [
      "           DATE Cons_Materials\n",
      "0    2003-01-01           1654\n",
      "1    2003-02-01           1688\n",
      "2    2003-03-01           1638\n",
      "3    2003-04-01           1662\n",
      "4    2003-05-01           1733\n",
      "..          ...            ...\n",
      "244  2023-05-01           1534\n",
      "245  2023-06-01           1492\n",
      "246  2023-07-01           1334\n",
      "247  2023-08-01           1370\n",
      "248  2023-09-01           1478\n",
      "\n",
      "[249 rows x 2 columns]\n"
     ]
    }
   ],
   "source": [
    "# Reading Per New Construction MAterial into a dataframe\n",
    "df_cons_mtl = pd.read_csv(\"6 New Constructed Units.csv\", names = [\"DATE\", \"Cons_Materials\"])\n",
    "# Remove the row with index 0\n",
    "df_cons_mtl= df_cons_mtl.drop(0)\n",
    "\n",
    "# Resetting index after dropping row 0\n",
    "df_cons_mtl.reset_index(drop=True, inplace=True)\n",
    "\n",
    "# Remove the row with index 249\n",
    "df_cons_mtl= df_cons_mtl.drop(249)\n",
    "\n",
    "# Resetting index after dropping row 249\n",
    "df_cons_mtl.reset_index(drop=True, inplace=True)\n",
    "\n",
    "print(df_cons_mtl)"
   ]
  },
  {
   "cell_type": "code",
   "execution_count": 24,
   "id": "797d1d14",
   "metadata": {},
   "outputs": [],
   "source": [
    "#Changing dtype of date column\n",
    "df_cons_mtl[\"DATE\"] = pd.to_datetime(df_cons_mtl[\"DATE\"])\n",
    "df_cons_mtl['Cons_Materials'] = pd.to_numeric(df_cons_mtl['Cons_Materials'], errors='coerce')"
   ]
  },
  {
   "cell_type": "code",
   "execution_count": 25,
   "id": "6b8c01fc",
   "metadata": {},
   "outputs": [
    {
     "data": {
      "text/plain": [
       "DATE              datetime64[ns]\n",
       "Cons_Materials             int64\n",
       "dtype: object"
      ]
     },
     "execution_count": 25,
     "metadata": {},
     "output_type": "execute_result"
    }
   ],
   "source": [
    "df_cons_mtl.dtypes"
   ]
  },
  {
   "cell_type": "code",
   "execution_count": 26,
   "id": "a60b5a87",
   "metadata": {},
   "outputs": [
    {
     "name": "stdout",
     "output_type": "stream",
     "text": [
      "(20, 2)\n"
     ]
    },
    {
     "data": {
      "text/html": [
       "<div>\n",
       "<style scoped>\n",
       "    .dataframe tbody tr th:only-of-type {\n",
       "        vertical-align: middle;\n",
       "    }\n",
       "\n",
       "    .dataframe tbody tr th {\n",
       "        vertical-align: top;\n",
       "    }\n",
       "\n",
       "    .dataframe thead th {\n",
       "        text-align: right;\n",
       "    }\n",
       "</style>\n",
       "<table border=\"1\" class=\"dataframe\">\n",
       "  <thead>\n",
       "    <tr style=\"text-align: right;\">\n",
       "      <th></th>\n",
       "      <th>DATE</th>\n",
       "      <th>Subsidy</th>\n",
       "    </tr>\n",
       "  </thead>\n",
       "  <tbody>\n",
       "    <tr>\n",
       "      <th>0</th>\n",
       "      <td>2003-01-01</td>\n",
       "      <td>25.930</td>\n",
       "    </tr>\n",
       "    <tr>\n",
       "      <th>1</th>\n",
       "      <td>2004-01-01</td>\n",
       "      <td>27.201</td>\n",
       "    </tr>\n",
       "    <tr>\n",
       "      <th>2</th>\n",
       "      <td>2005-01-01</td>\n",
       "      <td>27.651</td>\n",
       "    </tr>\n",
       "    <tr>\n",
       "      <th>3</th>\n",
       "      <td>2006-01-01</td>\n",
       "      <td>28.604</td>\n",
       "    </tr>\n",
       "    <tr>\n",
       "      <th>4</th>\n",
       "      <td>2007-01-01</td>\n",
       "      <td>29.512</td>\n",
       "    </tr>\n",
       "    <tr>\n",
       "      <th>5</th>\n",
       "      <td>2008-01-01</td>\n",
       "      <td>29.876</td>\n",
       "    </tr>\n",
       "    <tr>\n",
       "      <th>6</th>\n",
       "      <td>2009-01-01</td>\n",
       "      <td>32.883</td>\n",
       "    </tr>\n",
       "    <tr>\n",
       "      <th>7</th>\n",
       "      <td>2010-01-01</td>\n",
       "      <td>32.669</td>\n",
       "    </tr>\n",
       "    <tr>\n",
       "      <th>8</th>\n",
       "      <td>2011-01-01</td>\n",
       "      <td>34.230</td>\n",
       "    </tr>\n",
       "    <tr>\n",
       "      <th>9</th>\n",
       "      <td>2012-01-01</td>\n",
       "      <td>33.283</td>\n",
       "    </tr>\n",
       "    <tr>\n",
       "      <th>10</th>\n",
       "      <td>2013-01-01</td>\n",
       "      <td>33.213</td>\n",
       "    </tr>\n",
       "    <tr>\n",
       "      <th>11</th>\n",
       "      <td>2014-01-01</td>\n",
       "      <td>33.806</td>\n",
       "    </tr>\n",
       "    <tr>\n",
       "      <th>12</th>\n",
       "      <td>2015-01-01</td>\n",
       "      <td>34.859</td>\n",
       "    </tr>\n",
       "    <tr>\n",
       "      <th>13</th>\n",
       "      <td>2016-01-01</td>\n",
       "      <td>37.550</td>\n",
       "    </tr>\n",
       "    <tr>\n",
       "      <th>14</th>\n",
       "      <td>2017-01-01</td>\n",
       "      <td>35.771</td>\n",
       "    </tr>\n",
       "    <tr>\n",
       "      <th>15</th>\n",
       "      <td>2018-01-01</td>\n",
       "      <td>38.859</td>\n",
       "    </tr>\n",
       "    <tr>\n",
       "      <th>16</th>\n",
       "      <td>2019-01-01</td>\n",
       "      <td>40.185</td>\n",
       "    </tr>\n",
       "    <tr>\n",
       "      <th>17</th>\n",
       "      <td>2020-01-01</td>\n",
       "      <td>44.147</td>\n",
       "    </tr>\n",
       "    <tr>\n",
       "      <th>18</th>\n",
       "      <td>2021-01-01</td>\n",
       "      <td>45.299</td>\n",
       "    </tr>\n",
       "    <tr>\n",
       "      <th>19</th>\n",
       "      <td>2022-01-01</td>\n",
       "      <td>48.021</td>\n",
       "    </tr>\n",
       "  </tbody>\n",
       "</table>\n",
       "</div>"
      ],
      "text/plain": [
       "          DATE Subsidy\n",
       "0   2003-01-01  25.930\n",
       "1   2004-01-01  27.201\n",
       "2   2005-01-01  27.651\n",
       "3   2006-01-01  28.604\n",
       "4   2007-01-01  29.512\n",
       "5   2008-01-01  29.876\n",
       "6   2009-01-01  32.883\n",
       "7   2010-01-01  32.669\n",
       "8   2011-01-01  34.230\n",
       "9   2012-01-01  33.283\n",
       "10  2013-01-01  33.213\n",
       "11  2014-01-01  33.806\n",
       "12  2015-01-01  34.859\n",
       "13  2016-01-01  37.550\n",
       "14  2017-01-01  35.771\n",
       "15  2018-01-01  38.859\n",
       "16  2019-01-01  40.185\n",
       "17  2020-01-01  44.147\n",
       "18  2021-01-01  45.299\n",
       "19  2022-01-01  48.021"
      ]
     },
     "execution_count": 26,
     "metadata": {},
     "output_type": "execute_result"
    }
   ],
   "source": [
    "# Housing Subsidies\n",
    "\n",
    "df_subsidy = pd.read_csv(\"11 Housing Subsidies.csv\", names = [\"DATE\", \"Subsidy\"])\n",
    "# Remove the row with index 0\n",
    "df_subsidy= df_subsidy.drop(0)\n",
    "\n",
    "# Resetting index after dropping row 0\n",
    "df_subsidy.reset_index(drop=True, inplace=True)\n",
    "\n",
    "print(df_subsidy.shape)\n",
    "df_subsidy"
   ]
  },
  {
   "cell_type": "code",
   "execution_count": 27,
   "id": "f2686caa",
   "metadata": {},
   "outputs": [],
   "source": [
    "#Changing dtype of date column\n",
    "df_subsidy[\"DATE\"] = pd.to_datetime(df_subsidy[\"DATE\"])\n",
    "df_subsidy['Subsidy'] = pd.to_numeric(df_subsidy['Subsidy'], errors='coerce')"
   ]
  },
  {
   "cell_type": "code",
   "execution_count": 28,
   "id": "914f61e0",
   "metadata": {},
   "outputs": [
    {
     "data": {
      "text/plain": [
       "DATE       datetime64[ns]\n",
       "Subsidy           float64\n",
       "dtype: object"
      ]
     },
     "execution_count": 28,
     "metadata": {},
     "output_type": "execute_result"
    }
   ],
   "source": [
    "df_subsidy.dtypes"
   ]
  },
  {
   "cell_type": "code",
   "execution_count": 29,
   "id": "7ec56bb0",
   "metadata": {},
   "outputs": [
    {
     "name": "stdout",
     "output_type": "stream",
     "text": [
      "          DATE Num_Households\n",
      "0   2003-01-01         111278\n",
      "1   2004-01-01         112000\n",
      "2   2005-01-01         113343\n",
      "3   2006-01-01         114384\n",
      "4   2007-01-01         116011\n",
      "5   2008-01-01         116783\n",
      "6   2009-01-01         117181\n",
      "7   2010-01-01         117538\n",
      "8   2011-01-01         119927\n",
      "9   2012-01-01         121084\n",
      "10  2013-01-01         122459\n",
      "11  2014-01-01         123229\n",
      "12  2015-01-01         124587\n",
      "13  2016-01-01         125819\n",
      "14  2017-01-01         126224\n",
      "15  2018-01-01         127586\n",
      "16  2019-01-01         128579\n",
      "17  2020-01-01         128451\n",
      "18  2021-01-01         129224\n",
      "19  2022-01-01         131202\n"
     ]
    }
   ],
   "source": [
    "# Number of households\n",
    "\n",
    "df_households = pd.read_csv(\"12 Total House Hold.csv\", names = [\"DATE\", \"Num_Households\"])\n",
    "# Remove the row with index 0\n",
    "df_households= df_households.drop(0)\n",
    "\n",
    "# Resetting index after dropping row 0\n",
    "df_households.reset_index(drop=True, inplace=True)\n",
    "\n",
    "# Remove the row with index 20\n",
    "df_households= df_households.drop(20)\n",
    "\n",
    "# Resetting index after dropping row 20\n",
    "df_households.reset_index(drop=True, inplace=True)\n",
    "\n",
    "print(df_households)"
   ]
  },
  {
   "cell_type": "code",
   "execution_count": 30,
   "id": "ada10ad4",
   "metadata": {},
   "outputs": [],
   "source": [
    "#Changing dtype of date column\n",
    "df_households[\"DATE\"] = pd.to_datetime(df_households[\"DATE\"])\n",
    "df_households['Num_Households'] = pd.to_numeric(df_households['Num_Households'], errors='coerce')"
   ]
  },
  {
   "cell_type": "code",
   "execution_count": 31,
   "id": "9c1c80dc",
   "metadata": {},
   "outputs": [
    {
     "data": {
      "text/plain": [
       "DATE              datetime64[ns]\n",
       "Num_Households             int64\n",
       "dtype: object"
      ]
     },
     "execution_count": 31,
     "metadata": {},
     "output_type": "execute_result"
    }
   ],
   "source": [
    "df_households.dtypes"
   ]
  },
  {
   "cell_type": "code",
   "execution_count": 32,
   "id": "9bfcff02",
   "metadata": {},
   "outputs": [
    {
     "data": {
      "text/html": [
       "<div>\n",
       "<style scoped>\n",
       "    .dataframe tbody tr th:only-of-type {\n",
       "        vertical-align: middle;\n",
       "    }\n",
       "\n",
       "    .dataframe tbody tr th {\n",
       "        vertical-align: top;\n",
       "    }\n",
       "\n",
       "    .dataframe thead th {\n",
       "        text-align: right;\n",
       "    }\n",
       "</style>\n",
       "<table border=\"1\" class=\"dataframe\">\n",
       "  <thead>\n",
       "    <tr style=\"text-align: right;\">\n",
       "      <th></th>\n",
       "      <th>DATE</th>\n",
       "      <th>Per_Capital_GDP</th>\n",
       "    </tr>\n",
       "  </thead>\n",
       "  <tbody>\n",
       "    <tr>\n",
       "      <th>0</th>\n",
       "      <td>2003-01-01</td>\n",
       "      <td>50462</td>\n",
       "    </tr>\n",
       "    <tr>\n",
       "      <th>1</th>\n",
       "      <td>2003-04-01</td>\n",
       "      <td>50796</td>\n",
       "    </tr>\n",
       "    <tr>\n",
       "      <th>2</th>\n",
       "      <td>2003-07-01</td>\n",
       "      <td>51512</td>\n",
       "    </tr>\n",
       "    <tr>\n",
       "      <th>3</th>\n",
       "      <td>2003-10-01</td>\n",
       "      <td>51986</td>\n",
       "    </tr>\n",
       "    <tr>\n",
       "      <th>4</th>\n",
       "      <td>2004-01-01</td>\n",
       "      <td>52179</td>\n",
       "    </tr>\n",
       "    <tr>\n",
       "      <th>...</th>\n",
       "      <td>...</td>\n",
       "      <td>...</td>\n",
       "    </tr>\n",
       "    <tr>\n",
       "      <th>78</th>\n",
       "      <td>2022-07-01</td>\n",
       "      <td>65462</td>\n",
       "    </tr>\n",
       "    <tr>\n",
       "      <th>79</th>\n",
       "      <td>2022-10-01</td>\n",
       "      <td>65783</td>\n",
       "    </tr>\n",
       "    <tr>\n",
       "      <th>80</th>\n",
       "      <td>2023-01-01</td>\n",
       "      <td>66078</td>\n",
       "    </tr>\n",
       "    <tr>\n",
       "      <th>81</th>\n",
       "      <td>2023-04-01</td>\n",
       "      <td>66341</td>\n",
       "    </tr>\n",
       "    <tr>\n",
       "      <th>82</th>\n",
       "      <td>2023-07-01</td>\n",
       "      <td>67083</td>\n",
       "    </tr>\n",
       "  </tbody>\n",
       "</table>\n",
       "<p>83 rows × 2 columns</p>\n",
       "</div>"
      ],
      "text/plain": [
       "         DATE  Per_Capital_GDP\n",
       "0  2003-01-01            50462\n",
       "1  2003-04-01            50796\n",
       "2  2003-07-01            51512\n",
       "3  2003-10-01            51986\n",
       "4  2004-01-01            52179\n",
       "..        ...              ...\n",
       "78 2022-07-01            65462\n",
       "79 2022-10-01            65783\n",
       "80 2023-01-01            66078\n",
       "81 2023-04-01            66341\n",
       "82 2023-07-01            67083\n",
       "\n",
       "[83 rows x 2 columns]"
      ]
     },
     "execution_count": 32,
     "metadata": {},
     "output_type": "execute_result"
    }
   ],
   "source": [
    "df_pcgdp"
   ]
  },
  {
   "cell_type": "code",
   "execution_count": 33,
   "id": "8a4b356c",
   "metadata": {},
   "outputs": [
    {
     "data": {
      "text/html": [
       "<div>\n",
       "<style scoped>\n",
       "    .dataframe tbody tr th:only-of-type {\n",
       "        vertical-align: middle;\n",
       "    }\n",
       "\n",
       "    .dataframe tbody tr th {\n",
       "        vertical-align: top;\n",
       "    }\n",
       "\n",
       "    .dataframe thead th {\n",
       "        text-align: right;\n",
       "    }\n",
       "</style>\n",
       "<table border=\"1\" class=\"dataframe\">\n",
       "  <thead>\n",
       "    <tr style=\"text-align: right;\">\n",
       "      <th></th>\n",
       "      <th>DATE</th>\n",
       "      <th>Price</th>\n",
       "      <th>Year</th>\n",
       "      <th>Month</th>\n",
       "      <th>Per_Capital_GDP</th>\n",
       "    </tr>\n",
       "  </thead>\n",
       "  <tbody>\n",
       "    <tr>\n",
       "      <th>0</th>\n",
       "      <td>2003-01-01</td>\n",
       "      <td>128.46</td>\n",
       "      <td>2003</td>\n",
       "      <td>1</td>\n",
       "      <td>50462.0</td>\n",
       "    </tr>\n",
       "    <tr>\n",
       "      <th>1</th>\n",
       "      <td>2003-02-01</td>\n",
       "      <td>129.36</td>\n",
       "      <td>2003</td>\n",
       "      <td>2</td>\n",
       "      <td>NaN</td>\n",
       "    </tr>\n",
       "    <tr>\n",
       "      <th>2</th>\n",
       "      <td>2003-03-01</td>\n",
       "      <td>130.15</td>\n",
       "      <td>2003</td>\n",
       "      <td>3</td>\n",
       "      <td>NaN</td>\n",
       "    </tr>\n",
       "    <tr>\n",
       "      <th>3</th>\n",
       "      <td>2003-04-01</td>\n",
       "      <td>130.88</td>\n",
       "      <td>2003</td>\n",
       "      <td>4</td>\n",
       "      <td>50796.0</td>\n",
       "    </tr>\n",
       "    <tr>\n",
       "      <th>4</th>\n",
       "      <td>2003-05-01</td>\n",
       "      <td>131.74</td>\n",
       "      <td>2003</td>\n",
       "      <td>5</td>\n",
       "      <td>NaN</td>\n",
       "    </tr>\n",
       "    <tr>\n",
       "      <th>...</th>\n",
       "      <td>...</td>\n",
       "      <td>...</td>\n",
       "      <td>...</td>\n",
       "      <td>...</td>\n",
       "      <td>...</td>\n",
       "    </tr>\n",
       "    <tr>\n",
       "      <th>244</th>\n",
       "      <td>2023-05-01</td>\n",
       "      <td>302.57</td>\n",
       "      <td>2023</td>\n",
       "      <td>5</td>\n",
       "      <td>NaN</td>\n",
       "    </tr>\n",
       "    <tr>\n",
       "      <th>245</th>\n",
       "      <td>2023-06-01</td>\n",
       "      <td>304.59</td>\n",
       "      <td>2023</td>\n",
       "      <td>6</td>\n",
       "      <td>NaN</td>\n",
       "    </tr>\n",
       "    <tr>\n",
       "      <th>246</th>\n",
       "      <td>2023-07-01</td>\n",
       "      <td>306.77</td>\n",
       "      <td>2023</td>\n",
       "      <td>7</td>\n",
       "      <td>67083.0</td>\n",
       "    </tr>\n",
       "    <tr>\n",
       "      <th>247</th>\n",
       "      <td>2023-08-01</td>\n",
       "      <td>309.16</td>\n",
       "      <td>2023</td>\n",
       "      <td>8</td>\n",
       "      <td>NaN</td>\n",
       "    </tr>\n",
       "    <tr>\n",
       "      <th>248</th>\n",
       "      <td>2023-09-01</td>\n",
       "      <td>311.18</td>\n",
       "      <td>2023</td>\n",
       "      <td>9</td>\n",
       "      <td>NaN</td>\n",
       "    </tr>\n",
       "  </tbody>\n",
       "</table>\n",
       "<p>249 rows × 5 columns</p>\n",
       "</div>"
      ],
      "text/plain": [
       "          DATE   Price  Year  Month  Per_Capital_GDP\n",
       "0   2003-01-01  128.46  2003      1          50462.0\n",
       "1   2003-02-01  129.36  2003      2              NaN\n",
       "2   2003-03-01  130.15  2003      3              NaN\n",
       "3   2003-04-01  130.88  2003      4          50796.0\n",
       "4   2003-05-01  131.74  2003      5              NaN\n",
       "..         ...     ...   ...    ...              ...\n",
       "244 2023-05-01  302.57  2023      5              NaN\n",
       "245 2023-06-01  304.59  2023      6              NaN\n",
       "246 2023-07-01  306.77  2023      7          67083.0\n",
       "247 2023-08-01  309.16  2023      8              NaN\n",
       "248 2023-09-01  311.18  2023      9              NaN\n",
       "\n",
       "[249 rows x 5 columns]"
      ]
     },
     "execution_count": 33,
     "metadata": {},
     "output_type": "execute_result"
    }
   ],
   "source": [
    "# Merging Per Capita GDP (Quarterly data)\n",
    "df_pcgdp[\"DATE\"] = pd.to_datetime(df_pcgdp[\"DATE\"])\n",
    "df = pd.merge(df_cs,df_pcgdp, how = \"left\")\n",
    "df"
   ]
  },
  {
   "cell_type": "code",
   "execution_count": 34,
   "id": "f50f6bfe",
   "metadata": {},
   "outputs": [
    {
     "name": "stdout",
     "output_type": "stream",
     "text": [
      "<class 'pandas.core.frame.DataFrame'>\n",
      "Int64Index: 249 entries, 0 to 248\n",
      "Data columns (total 5 columns):\n",
      " #   Column           Non-Null Count  Dtype         \n",
      "---  ------           --------------  -----         \n",
      " 0   DATE             249 non-null    datetime64[ns]\n",
      " 1   Price            249 non-null    float64       \n",
      " 2   Year             249 non-null    int64         \n",
      " 3   Month            249 non-null    int64         \n",
      " 4   Per_Capital_GDP  83 non-null     float64       \n",
      "dtypes: datetime64[ns](1), float64(2), int64(2)\n",
      "memory usage: 11.7 KB\n"
     ]
    }
   ],
   "source": [
    "df.info()"
   ]
  },
  {
   "cell_type": "code",
   "execution_count": null,
   "id": "30133e86",
   "metadata": {},
   "outputs": [],
   "source": []
  },
  {
   "cell_type": "code",
   "execution_count": 35,
   "id": "ea7db01d",
   "metadata": {},
   "outputs": [
    {
     "name": "stdout",
     "output_type": "stream",
     "text": [
      "<class 'pandas.core.frame.DataFrame'>\n",
      "Int64Index: 249 entries, 0 to 248\n",
      "Data columns (total 5 columns):\n",
      " #   Column           Non-Null Count  Dtype         \n",
      "---  ------           --------------  -----         \n",
      " 0   DATE             249 non-null    datetime64[ns]\n",
      " 1   Price            249 non-null    float64       \n",
      " 2   Year             249 non-null    int64         \n",
      " 3   Month            249 non-null    int64         \n",
      " 4   Per_Capital_GDP  83 non-null     float64       \n",
      "dtypes: datetime64[ns](1), float64(2), int64(2)\n",
      "memory usage: 11.7 KB\n"
     ]
    }
   ],
   "source": [
    "df.info()"
   ]
  },
  {
   "cell_type": "code",
   "execution_count": 36,
   "id": "11d79ff7",
   "metadata": {},
   "outputs": [
    {
     "data": {
      "text/plain": [
       "DATE                 datetime64[ns]\n",
       "Unemployment Rate           float64\n",
       "dtype: object"
      ]
     },
     "execution_count": 36,
     "metadata": {},
     "output_type": "execute_result"
    }
   ],
   "source": [
    "df_unemp.dtypes"
   ]
  },
  {
   "cell_type": "code",
   "execution_count": 37,
   "id": "196b6947",
   "metadata": {},
   "outputs": [
    {
     "name": "stdout",
     "output_type": "stream",
     "text": [
      "(249, 10)\n"
     ]
    },
    {
     "data": {
      "text/html": [
       "<div>\n",
       "<style scoped>\n",
       "    .dataframe tbody tr th:only-of-type {\n",
       "        vertical-align: middle;\n",
       "    }\n",
       "\n",
       "    .dataframe tbody tr th {\n",
       "        vertical-align: top;\n",
       "    }\n",
       "\n",
       "    .dataframe thead th {\n",
       "        text-align: right;\n",
       "    }\n",
       "</style>\n",
       "<table border=\"1\" class=\"dataframe\">\n",
       "  <thead>\n",
       "    <tr style=\"text-align: right;\">\n",
       "      <th></th>\n",
       "      <th>Price</th>\n",
       "      <th>Year</th>\n",
       "      <th>Month</th>\n",
       "      <th>Unemployment Rate</th>\n",
       "      <th>Cons_Materials_Price</th>\n",
       "      <th>Interest Rate</th>\n",
       "      <th>Per_Capital_GDP</th>\n",
       "      <th>Num_Households</th>\n",
       "      <th>Income</th>\n",
       "      <th>Subsidy</th>\n",
       "    </tr>\n",
       "    <tr>\n",
       "      <th>DATE</th>\n",
       "      <th></th>\n",
       "      <th></th>\n",
       "      <th></th>\n",
       "      <th></th>\n",
       "      <th></th>\n",
       "      <th></th>\n",
       "      <th></th>\n",
       "      <th></th>\n",
       "      <th></th>\n",
       "      <th></th>\n",
       "    </tr>\n",
       "  </thead>\n",
       "  <tbody>\n",
       "    <tr>\n",
       "      <th>2003-01-01</th>\n",
       "      <td>128.46</td>\n",
       "      <td>2003</td>\n",
       "      <td>1</td>\n",
       "      <td>5.8</td>\n",
       "      <td>144.4</td>\n",
       "      <td>1.24</td>\n",
       "      <td>50462.0</td>\n",
       "      <td>111278.0</td>\n",
       "      <td>10710.4</td>\n",
       "      <td>25.93</td>\n",
       "    </tr>\n",
       "    <tr>\n",
       "      <th>2003-02-01</th>\n",
       "      <td>129.36</td>\n",
       "      <td>2003</td>\n",
       "      <td>2</td>\n",
       "      <td>5.9</td>\n",
       "      <td>145.2</td>\n",
       "      <td>1.26</td>\n",
       "      <td>NaN</td>\n",
       "      <td>NaN</td>\n",
       "      <td>10674.0</td>\n",
       "      <td>NaN</td>\n",
       "    </tr>\n",
       "    <tr>\n",
       "      <th>2003-03-01</th>\n",
       "      <td>130.15</td>\n",
       "      <td>2003</td>\n",
       "      <td>3</td>\n",
       "      <td>5.9</td>\n",
       "      <td>145.2</td>\n",
       "      <td>1.25</td>\n",
       "      <td>NaN</td>\n",
       "      <td>NaN</td>\n",
       "      <td>10696.5</td>\n",
       "      <td>NaN</td>\n",
       "    </tr>\n",
       "    <tr>\n",
       "      <th>2003-04-01</th>\n",
       "      <td>130.88</td>\n",
       "      <td>2003</td>\n",
       "      <td>4</td>\n",
       "      <td>6.0</td>\n",
       "      <td>145.9</td>\n",
       "      <td>1.26</td>\n",
       "      <td>50796.0</td>\n",
       "      <td>NaN</td>\n",
       "      <td>10752.7</td>\n",
       "      <td>NaN</td>\n",
       "    </tr>\n",
       "    <tr>\n",
       "      <th>2003-05-01</th>\n",
       "      <td>131.74</td>\n",
       "      <td>2003</td>\n",
       "      <td>5</td>\n",
       "      <td>6.1</td>\n",
       "      <td>145.8</td>\n",
       "      <td>1.26</td>\n",
       "      <td>NaN</td>\n",
       "      <td>NaN</td>\n",
       "      <td>10832.0</td>\n",
       "      <td>NaN</td>\n",
       "    </tr>\n",
       "  </tbody>\n",
       "</table>\n",
       "</div>"
      ],
      "text/plain": [
       "             Price  Year  Month  Unemployment Rate  Cons_Materials_Price  \\\n",
       "DATE                                                                       \n",
       "2003-01-01  128.46  2003      1                5.8                 144.4   \n",
       "2003-02-01  129.36  2003      2                5.9                 145.2   \n",
       "2003-03-01  130.15  2003      3                5.9                 145.2   \n",
       "2003-04-01  130.88  2003      4                6.0                 145.9   \n",
       "2003-05-01  131.74  2003      5                6.1                 145.8   \n",
       "\n",
       "            Interest Rate  Per_Capital_GDP  Num_Households   Income  Subsidy  \n",
       "DATE                                                                          \n",
       "2003-01-01           1.24          50462.0        111278.0  10710.4    25.93  \n",
       "2003-02-01           1.26              NaN             NaN  10674.0      NaN  \n",
       "2003-03-01           1.25              NaN             NaN  10696.5      NaN  \n",
       "2003-04-01           1.26          50796.0             NaN  10752.7      NaN  \n",
       "2003-05-01           1.26              NaN             NaN  10832.0      NaN  "
      ]
     },
     "execution_count": 37,
     "metadata": {},
     "output_type": "execute_result"
    }
   ],
   "source": [
    "# Concating dataframes having monthly data to create one dataframe\n",
    "df = pd.DataFrame()\n",
    "df_bymonth = [df_cs, df_unemp, df_cons_price_index, df_Fed_rate,df_pcgdp,df_households,df_income,df_subsidy]\n",
    "for df1 in df_bymonth:\n",
    "    df1 = df1.set_index(\"DATE\")\n",
    "    df = pd.concat([df,df1], axis = 1)\n",
    "print(df.shape)\n",
    "df.head()"
   ]
  },
  {
   "cell_type": "code",
   "execution_count": 38,
   "id": "a6d4cee3",
   "metadata": {},
   "outputs": [
    {
     "data": {
      "text/plain": [
       "DATE              datetime64[ns]\n",
       "Num_Households             int64\n",
       "dtype: object"
      ]
     },
     "execution_count": 38,
     "metadata": {},
     "output_type": "execute_result"
    }
   ],
   "source": [
    "df_households.dtypes"
   ]
  },
  {
   "cell_type": "code",
   "execution_count": 39,
   "id": "528f9d4f",
   "metadata": {},
   "outputs": [
    {
     "data": {
      "text/plain": [
       "DATE       datetime64[ns]\n",
       "Subsidy           float64\n",
       "dtype: object"
      ]
     },
     "execution_count": 39,
     "metadata": {},
     "output_type": "execute_result"
    }
   ],
   "source": [
    "df_subsidy.dtypes"
   ]
  },
  {
   "cell_type": "code",
   "execution_count": 40,
   "id": "1cb70250",
   "metadata": {},
   "outputs": [
    {
     "data": {
      "text/plain": [
       "DATE      datetime64[ns]\n",
       "Income           float64\n",
       "dtype: object"
      ]
     },
     "execution_count": 40,
     "metadata": {},
     "output_type": "execute_result"
    }
   ],
   "source": [
    "df_income.dtypes"
   ]
  },
  {
   "cell_type": "code",
   "execution_count": 41,
   "id": "44b84560",
   "metadata": {},
   "outputs": [
    {
     "data": {
      "text/html": [
       "<div>\n",
       "<style scoped>\n",
       "    .dataframe tbody tr th:only-of-type {\n",
       "        vertical-align: middle;\n",
       "    }\n",
       "\n",
       "    .dataframe tbody tr th {\n",
       "        vertical-align: top;\n",
       "    }\n",
       "\n",
       "    .dataframe thead th {\n",
       "        text-align: right;\n",
       "    }\n",
       "</style>\n",
       "<table border=\"1\" class=\"dataframe\">\n",
       "  <thead>\n",
       "    <tr style=\"text-align: right;\">\n",
       "      <th></th>\n",
       "      <th>Price</th>\n",
       "      <th>Year</th>\n",
       "      <th>Month</th>\n",
       "      <th>Unemployment Rate</th>\n",
       "      <th>Cons_Materials_Price</th>\n",
       "      <th>Interest Rate</th>\n",
       "      <th>Per_Capital_GDP</th>\n",
       "      <th>Num_Households</th>\n",
       "      <th>Income</th>\n",
       "      <th>Subsidy</th>\n",
       "    </tr>\n",
       "    <tr>\n",
       "      <th>DATE</th>\n",
       "      <th></th>\n",
       "      <th></th>\n",
       "      <th></th>\n",
       "      <th></th>\n",
       "      <th></th>\n",
       "      <th></th>\n",
       "      <th></th>\n",
       "      <th></th>\n",
       "      <th></th>\n",
       "      <th></th>\n",
       "    </tr>\n",
       "  </thead>\n",
       "  <tbody>\n",
       "    <tr>\n",
       "      <th>2003-01-01</th>\n",
       "      <td>128.46</td>\n",
       "      <td>2003</td>\n",
       "      <td>1</td>\n",
       "      <td>5.8</td>\n",
       "      <td>144.4</td>\n",
       "      <td>1.24</td>\n",
       "      <td>50462.0</td>\n",
       "      <td>111278.0</td>\n",
       "      <td>10710.4</td>\n",
       "      <td>25.93</td>\n",
       "    </tr>\n",
       "    <tr>\n",
       "      <th>2003-02-01</th>\n",
       "      <td>129.36</td>\n",
       "      <td>2003</td>\n",
       "      <td>2</td>\n",
       "      <td>5.9</td>\n",
       "      <td>145.2</td>\n",
       "      <td>1.26</td>\n",
       "      <td>NaN</td>\n",
       "      <td>NaN</td>\n",
       "      <td>10674.0</td>\n",
       "      <td>NaN</td>\n",
       "    </tr>\n",
       "    <tr>\n",
       "      <th>2003-03-01</th>\n",
       "      <td>130.15</td>\n",
       "      <td>2003</td>\n",
       "      <td>3</td>\n",
       "      <td>5.9</td>\n",
       "      <td>145.2</td>\n",
       "      <td>1.25</td>\n",
       "      <td>NaN</td>\n",
       "      <td>NaN</td>\n",
       "      <td>10696.5</td>\n",
       "      <td>NaN</td>\n",
       "    </tr>\n",
       "    <tr>\n",
       "      <th>2003-04-01</th>\n",
       "      <td>130.88</td>\n",
       "      <td>2003</td>\n",
       "      <td>4</td>\n",
       "      <td>6.0</td>\n",
       "      <td>145.9</td>\n",
       "      <td>1.26</td>\n",
       "      <td>50796.0</td>\n",
       "      <td>NaN</td>\n",
       "      <td>10752.7</td>\n",
       "      <td>NaN</td>\n",
       "    </tr>\n",
       "    <tr>\n",
       "      <th>2003-05-01</th>\n",
       "      <td>131.74</td>\n",
       "      <td>2003</td>\n",
       "      <td>5</td>\n",
       "      <td>6.1</td>\n",
       "      <td>145.8</td>\n",
       "      <td>1.26</td>\n",
       "      <td>NaN</td>\n",
       "      <td>NaN</td>\n",
       "      <td>10832.0</td>\n",
       "      <td>NaN</td>\n",
       "    </tr>\n",
       "  </tbody>\n",
       "</table>\n",
       "</div>"
      ],
      "text/plain": [
       "             Price  Year  Month  Unemployment Rate  Cons_Materials_Price  \\\n",
       "DATE                                                                       \n",
       "2003-01-01  128.46  2003      1                5.8                 144.4   \n",
       "2003-02-01  129.36  2003      2                5.9                 145.2   \n",
       "2003-03-01  130.15  2003      3                5.9                 145.2   \n",
       "2003-04-01  130.88  2003      4                6.0                 145.9   \n",
       "2003-05-01  131.74  2003      5                6.1                 145.8   \n",
       "\n",
       "            Interest Rate  Per_Capital_GDP  Num_Households   Income  Subsidy  \n",
       "DATE                                                                          \n",
       "2003-01-01           1.24          50462.0        111278.0  10710.4    25.93  \n",
       "2003-02-01           1.26              NaN             NaN  10674.0      NaN  \n",
       "2003-03-01           1.25              NaN             NaN  10696.5      NaN  \n",
       "2003-04-01           1.26          50796.0             NaN  10752.7      NaN  \n",
       "2003-05-01           1.26              NaN             NaN  10832.0      NaN  "
      ]
     },
     "execution_count": 41,
     "metadata": {},
     "output_type": "execute_result"
    }
   ],
   "source": [
    "df.head()"
   ]
  },
  {
   "cell_type": "code",
   "execution_count": 42,
   "id": "0d300df4",
   "metadata": {},
   "outputs": [
    {
     "name": "stdout",
     "output_type": "stream",
     "text": [
      "<class 'pandas.core.frame.DataFrame'>\n",
      "DatetimeIndex: 249 entries, 2003-01-01 to 2023-09-01\n",
      "Freq: MS\n",
      "Data columns (total 10 columns):\n",
      " #   Column                Non-Null Count  Dtype  \n",
      "---  ------                --------------  -----  \n",
      " 0   Price                 249 non-null    float64\n",
      " 1   Year                  249 non-null    int64  \n",
      " 2   Month                 249 non-null    int64  \n",
      " 3   Unemployment Rate     249 non-null    float64\n",
      " 4   Cons_Materials_Price  249 non-null    float64\n",
      " 5   Interest Rate         249 non-null    float64\n",
      " 6   Per_Capital_GDP       83 non-null     float64\n",
      " 7   Num_Households        20 non-null     float64\n",
      " 8   Income                249 non-null    float64\n",
      " 9   Subsidy               20 non-null     float64\n",
      "dtypes: float64(8), int64(2)\n",
      "memory usage: 21.4 KB\n"
     ]
    }
   ],
   "source": [
    "df.info()"
   ]
  },
  {
   "cell_type": "code",
   "execution_count": 43,
   "id": "b0e26f7f",
   "metadata": {},
   "outputs": [],
   "source": [
    "# Filling missing values in the Per_Capita_GDP column using linear interpolation\n",
    "df[\"Per_Capital_GDP\"] = df[\"Per_Capital_GDP\"].interpolate()"
   ]
  },
  {
   "cell_type": "code",
   "execution_count": 44,
   "id": "cc2b5399",
   "metadata": {},
   "outputs": [
    {
     "name": "stdout",
     "output_type": "stream",
     "text": [
      "<class 'pandas.core.frame.DataFrame'>\n",
      "DatetimeIndex: 249 entries, 2003-01-01 to 2023-09-01\n",
      "Freq: MS\n",
      "Data columns (total 10 columns):\n",
      " #   Column                Non-Null Count  Dtype  \n",
      "---  ------                --------------  -----  \n",
      " 0   Price                 249 non-null    float64\n",
      " 1   Year                  249 non-null    int64  \n",
      " 2   Month                 249 non-null    int64  \n",
      " 3   Unemployment Rate     249 non-null    float64\n",
      " 4   Cons_Materials_Price  249 non-null    float64\n",
      " 5   Interest Rate         249 non-null    float64\n",
      " 6   Per_Capital_GDP       249 non-null    float64\n",
      " 7   Num_Households        20 non-null     float64\n",
      " 8   Income                249 non-null    float64\n",
      " 9   Subsidy               20 non-null     float64\n",
      "dtypes: float64(8), int64(2)\n",
      "memory usage: 21.4 KB\n"
     ]
    }
   ],
   "source": [
    "df.info()"
   ]
  },
  {
   "cell_type": "code",
   "execution_count": 45,
   "id": "00368258",
   "metadata": {},
   "outputs": [],
   "source": [
    "# Assuming df is your DataFrame\n",
    "# Fill NaN values in 'Num_Households' and 'Subsidy' columns with their respective medians\n",
    "median_num_households = df['Num_Households'].median()\n",
    "median_subsidy = df['Subsidy'].median()\n",
    "\n",
    "df['Num_Households'].fillna(median_num_households, inplace=True)\n",
    "df['Subsidy'].fillna(median_subsidy, inplace=True)"
   ]
  },
  {
   "cell_type": "code",
   "execution_count": 46,
   "id": "d8a68f18",
   "metadata": {},
   "outputs": [
    {
     "data": {
      "text/plain": [
       "Price                   0\n",
       "Year                    0\n",
       "Month                   0\n",
       "Unemployment Rate       0\n",
       "Cons_Materials_Price    0\n",
       "Interest Rate           0\n",
       "Per_Capital_GDP         0\n",
       "Num_Households          0\n",
       "Income                  0\n",
       "Subsidy                 0\n",
       "dtype: int64"
      ]
     },
     "execution_count": 46,
     "metadata": {},
     "output_type": "execute_result"
    }
   ],
   "source": [
    "df.isna().sum()"
   ]
  },
  {
   "cell_type": "code",
   "execution_count": 47,
   "id": "10aa73af",
   "metadata": {},
   "outputs": [
    {
     "data": {
      "text/plain": [
       "(249, 10)"
      ]
     },
     "execution_count": 47,
     "metadata": {},
     "output_type": "execute_result"
    }
   ],
   "source": [
    "df.shape"
   ]
  },
  {
   "cell_type": "code",
   "execution_count": 48,
   "id": "1e8743ca",
   "metadata": {},
   "outputs": [
    {
     "data": {
      "text/html": [
       "<div>\n",
       "<style scoped>\n",
       "    .dataframe tbody tr th:only-of-type {\n",
       "        vertical-align: middle;\n",
       "    }\n",
       "\n",
       "    .dataframe tbody tr th {\n",
       "        vertical-align: top;\n",
       "    }\n",
       "\n",
       "    .dataframe thead th {\n",
       "        text-align: right;\n",
       "    }\n",
       "</style>\n",
       "<table border=\"1\" class=\"dataframe\">\n",
       "  <thead>\n",
       "    <tr style=\"text-align: right;\">\n",
       "      <th></th>\n",
       "      <th>Price</th>\n",
       "      <th>Year</th>\n",
       "      <th>Month</th>\n",
       "      <th>Unemployment Rate</th>\n",
       "      <th>Cons_Materials_Price</th>\n",
       "      <th>Interest Rate</th>\n",
       "      <th>Per_Capital_GDP</th>\n",
       "      <th>Num_Households</th>\n",
       "      <th>Income</th>\n",
       "      <th>Subsidy</th>\n",
       "    </tr>\n",
       "    <tr>\n",
       "      <th>DATE</th>\n",
       "      <th></th>\n",
       "      <th></th>\n",
       "      <th></th>\n",
       "      <th></th>\n",
       "      <th></th>\n",
       "      <th></th>\n",
       "      <th></th>\n",
       "      <th></th>\n",
       "      <th></th>\n",
       "      <th></th>\n",
       "    </tr>\n",
       "  </thead>\n",
       "  <tbody>\n",
       "    <tr>\n",
       "      <th>2023-05-01</th>\n",
       "      <td>302.57</td>\n",
       "      <td>2023</td>\n",
       "      <td>5</td>\n",
       "      <td>3.7</td>\n",
       "      <td>337.473</td>\n",
       "      <td>5.06</td>\n",
       "      <td>66588.333333</td>\n",
       "      <td>121771.5</td>\n",
       "      <td>16818.5</td>\n",
       "      <td>33.5445</td>\n",
       "    </tr>\n",
       "    <tr>\n",
       "      <th>2023-06-01</th>\n",
       "      <td>304.59</td>\n",
       "      <td>2023</td>\n",
       "      <td>6</td>\n",
       "      <td>3.6</td>\n",
       "      <td>337.336</td>\n",
       "      <td>5.08</td>\n",
       "      <td>66835.666667</td>\n",
       "      <td>121771.5</td>\n",
       "      <td>16809.5</td>\n",
       "      <td>33.5445</td>\n",
       "    </tr>\n",
       "    <tr>\n",
       "      <th>2023-07-01</th>\n",
       "      <td>306.77</td>\n",
       "      <td>2023</td>\n",
       "      <td>7</td>\n",
       "      <td>3.5</td>\n",
       "      <td>334.576</td>\n",
       "      <td>5.12</td>\n",
       "      <td>67083.000000</td>\n",
       "      <td>121771.5</td>\n",
       "      <td>16796.9</td>\n",
       "      <td>33.5445</td>\n",
       "    </tr>\n",
       "    <tr>\n",
       "      <th>2023-08-01</th>\n",
       "      <td>309.16</td>\n",
       "      <td>2023</td>\n",
       "      <td>8</td>\n",
       "      <td>3.8</td>\n",
       "      <td>333.980</td>\n",
       "      <td>5.33</td>\n",
       "      <td>67083.000000</td>\n",
       "      <td>121771.5</td>\n",
       "      <td>16799.7</td>\n",
       "      <td>33.5445</td>\n",
       "    </tr>\n",
       "    <tr>\n",
       "      <th>2023-09-01</th>\n",
       "      <td>311.18</td>\n",
       "      <td>2023</td>\n",
       "      <td>9</td>\n",
       "      <td>3.8</td>\n",
       "      <td>332.224</td>\n",
       "      <td>5.33</td>\n",
       "      <td>67083.000000</td>\n",
       "      <td>121771.5</td>\n",
       "      <td>16804.8</td>\n",
       "      <td>33.5445</td>\n",
       "    </tr>\n",
       "  </tbody>\n",
       "</table>\n",
       "</div>"
      ],
      "text/plain": [
       "             Price  Year  Month  Unemployment Rate  Cons_Materials_Price  \\\n",
       "DATE                                                                       \n",
       "2023-05-01  302.57  2023      5                3.7               337.473   \n",
       "2023-06-01  304.59  2023      6                3.6               337.336   \n",
       "2023-07-01  306.77  2023      7                3.5               334.576   \n",
       "2023-08-01  309.16  2023      8                3.8               333.980   \n",
       "2023-09-01  311.18  2023      9                3.8               332.224   \n",
       "\n",
       "            Interest Rate  Per_Capital_GDP  Num_Households   Income  Subsidy  \n",
       "DATE                                                                          \n",
       "2023-05-01           5.06     66588.333333        121771.5  16818.5  33.5445  \n",
       "2023-06-01           5.08     66835.666667        121771.5  16809.5  33.5445  \n",
       "2023-07-01           5.12     67083.000000        121771.5  16796.9  33.5445  \n",
       "2023-08-01           5.33     67083.000000        121771.5  16799.7  33.5445  \n",
       "2023-09-01           5.33     67083.000000        121771.5  16804.8  33.5445  "
      ]
     },
     "execution_count": 48,
     "metadata": {},
     "output_type": "execute_result"
    }
   ],
   "source": [
    "df.tail()"
   ]
  },
  {
   "cell_type": "markdown",
   "id": "5c656c60",
   "metadata": {},
   "source": [
    "This is our preprocessed datset. Let's save it as \"prepared_dataset.csv\"."
   ]
  },
  {
   "cell_type": "code",
   "execution_count": 49,
   "id": "fdab6a8a",
   "metadata": {},
   "outputs": [],
   "source": [
    "df.to_csv(\"prepared_dataset1.csv\")"
   ]
  },
  {
   "cell_type": "code",
   "execution_count": 50,
   "id": "76e6ff73",
   "metadata": {},
   "outputs": [
    {
     "data": {
      "text/html": [
       "<div>\n",
       "<style scoped>\n",
       "    .dataframe tbody tr th:only-of-type {\n",
       "        vertical-align: middle;\n",
       "    }\n",
       "\n",
       "    .dataframe tbody tr th {\n",
       "        vertical-align: top;\n",
       "    }\n",
       "\n",
       "    .dataframe thead th {\n",
       "        text-align: right;\n",
       "    }\n",
       "</style>\n",
       "<table border=\"1\" class=\"dataframe\">\n",
       "  <thead>\n",
       "    <tr style=\"text-align: right;\">\n",
       "      <th></th>\n",
       "      <th>Price</th>\n",
       "      <th>Year</th>\n",
       "      <th>Month</th>\n",
       "      <th>Unemployment Rate</th>\n",
       "      <th>Cons_Materials_Price</th>\n",
       "      <th>Interest Rate</th>\n",
       "      <th>Per_Capital_GDP</th>\n",
       "      <th>Num_Households</th>\n",
       "      <th>Income</th>\n",
       "      <th>Subsidy</th>\n",
       "    </tr>\n",
       "    <tr>\n",
       "      <th>DATE</th>\n",
       "      <th></th>\n",
       "      <th></th>\n",
       "      <th></th>\n",
       "      <th></th>\n",
       "      <th></th>\n",
       "      <th></th>\n",
       "      <th></th>\n",
       "      <th></th>\n",
       "      <th></th>\n",
       "      <th></th>\n",
       "    </tr>\n",
       "  </thead>\n",
       "  <tbody>\n",
       "    <tr>\n",
       "      <th>2003-01-01</th>\n",
       "      <td>128.46</td>\n",
       "      <td>2003</td>\n",
       "      <td>1</td>\n",
       "      <td>5.8</td>\n",
       "      <td>144.4</td>\n",
       "      <td>1.24</td>\n",
       "      <td>50462.000000</td>\n",
       "      <td>111278.0</td>\n",
       "      <td>10710.4</td>\n",
       "      <td>25.9300</td>\n",
       "    </tr>\n",
       "    <tr>\n",
       "      <th>2003-02-01</th>\n",
       "      <td>129.36</td>\n",
       "      <td>2003</td>\n",
       "      <td>2</td>\n",
       "      <td>5.9</td>\n",
       "      <td>145.2</td>\n",
       "      <td>1.26</td>\n",
       "      <td>50573.333333</td>\n",
       "      <td>121771.5</td>\n",
       "      <td>10674.0</td>\n",
       "      <td>33.5445</td>\n",
       "    </tr>\n",
       "    <tr>\n",
       "      <th>2003-03-01</th>\n",
       "      <td>130.15</td>\n",
       "      <td>2003</td>\n",
       "      <td>3</td>\n",
       "      <td>5.9</td>\n",
       "      <td>145.2</td>\n",
       "      <td>1.25</td>\n",
       "      <td>50684.666667</td>\n",
       "      <td>121771.5</td>\n",
       "      <td>10696.5</td>\n",
       "      <td>33.5445</td>\n",
       "    </tr>\n",
       "    <tr>\n",
       "      <th>2003-04-01</th>\n",
       "      <td>130.88</td>\n",
       "      <td>2003</td>\n",
       "      <td>4</td>\n",
       "      <td>6.0</td>\n",
       "      <td>145.9</td>\n",
       "      <td>1.26</td>\n",
       "      <td>50796.000000</td>\n",
       "      <td>121771.5</td>\n",
       "      <td>10752.7</td>\n",
       "      <td>33.5445</td>\n",
       "    </tr>\n",
       "    <tr>\n",
       "      <th>2003-05-01</th>\n",
       "      <td>131.74</td>\n",
       "      <td>2003</td>\n",
       "      <td>5</td>\n",
       "      <td>6.1</td>\n",
       "      <td>145.8</td>\n",
       "      <td>1.26</td>\n",
       "      <td>51034.666667</td>\n",
       "      <td>121771.5</td>\n",
       "      <td>10832.0</td>\n",
       "      <td>33.5445</td>\n",
       "    </tr>\n",
       "  </tbody>\n",
       "</table>\n",
       "</div>"
      ],
      "text/plain": [
       "             Price  Year  Month  Unemployment Rate  Cons_Materials_Price  \\\n",
       "DATE                                                                       \n",
       "2003-01-01  128.46  2003      1                5.8                 144.4   \n",
       "2003-02-01  129.36  2003      2                5.9                 145.2   \n",
       "2003-03-01  130.15  2003      3                5.9                 145.2   \n",
       "2003-04-01  130.88  2003      4                6.0                 145.9   \n",
       "2003-05-01  131.74  2003      5                6.1                 145.8   \n",
       "\n",
       "            Interest Rate  Per_Capital_GDP  Num_Households   Income  Subsidy  \n",
       "DATE                                                                          \n",
       "2003-01-01           1.24     50462.000000        111278.0  10710.4  25.9300  \n",
       "2003-02-01           1.26     50573.333333        121771.5  10674.0  33.5445  \n",
       "2003-03-01           1.25     50684.666667        121771.5  10696.5  33.5445  \n",
       "2003-04-01           1.26     50796.000000        121771.5  10752.7  33.5445  \n",
       "2003-05-01           1.26     51034.666667        121771.5  10832.0  33.5445  "
      ]
     },
     "execution_count": 50,
     "metadata": {},
     "output_type": "execute_result"
    }
   ],
   "source": [
    "df = pd.read_csv(\"prepared_dataset1.csv\").set_index(\"DATE\")\n",
    "df.head()"
   ]
  },
  {
   "cell_type": "code",
   "execution_count": null,
   "id": "712e03ed",
   "metadata": {},
   "outputs": [],
   "source": []
  }
 ],
 "metadata": {
  "kernelspec": {
   "display_name": "Python 3 (ipykernel)",
   "language": "python",
   "name": "python3"
  },
  "language_info": {
   "codemirror_mode": {
    "name": "ipython",
    "version": 3
   },
   "file_extension": ".py",
   "mimetype": "text/x-python",
   "name": "python",
   "nbconvert_exporter": "python",
   "pygments_lexer": "ipython3",
   "version": "3.9.13"
  }
 },
 "nbformat": 4,
 "nbformat_minor": 5
}
